{
 "cells": [
  {
   "cell_type": "markdown",
   "metadata": {},
   "source": [
    "(boundaries)=\n",
    "# Boundaries, 🏴‍☠️ 🪛\n",
    "\n"
   ]
  },
  {
   "cell_type": "markdown",
   "metadata": {},
   "source": [
    "<iframe \n",
    "    src=\"../myhtml/part3.html\" \n",
    "    style=\"border: none; width: 100%; height: 100vh; overflow: hidden;\" \n",
    "    title=\"Act 1: Idols and Realities\">\n",
    "    Your browser does not support iframes. Please visit <a href=\"../myhtml/part3.html\">this link</a>.\n",
    "</iframe>"
   ]
  }
 ],
 "metadata": {
  "kernelspec": {
   "display_name": "myenv",
   "language": "python",
   "name": "python3"
  },
  "language_info": {
   "codemirror_mode": {
    "name": "ipython",
    "version": 3
   },
   "file_extension": ".py",
   "mimetype": "text/x-python",
   "name": "python",
   "nbconvert_exporter": "python",
   "pygments_lexer": "ipython3",
   "version": "3.12.4"
  },
  "widgets": {
   "application/vnd.jupyter.widget-state+json": {
    "state": {},
    "version_major": 2,
    "version_minor": 0
   }
  }
 },
 "nbformat": 4,
 "nbformat_minor": 4
}
